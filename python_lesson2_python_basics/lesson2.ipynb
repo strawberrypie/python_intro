{
 "cells": [
  {
   "cell_type": "markdown",
   "metadata": {},
   "source": [
    "<center>\n",
    "<img src=\"../img/python_theme.png\">\n",
    "# MLClass. \"Прикладной анализ данных\"\n",
    "# Модуль \"Инструментарий Data Science\"\n",
    "<img src=\"../img/mlclass_logo.jpg\" height=\"240\" width=\"240\">\n",
    "\n",
    "## Автор материала: Юрий Кашницкий, ФКН НИУ ВШЭ\n",
    "### Отредактировал: Антон Киселев, для семинара AI Community\n",
    "</center>\n",
    "Материал распространяется на условиях лицензии <a href=\"https://opensource.org/licenses/MS-RL\">Ms-RL</a>. Можно использовать в любых целях, кроме коммерческих, но с обязательным упоминанием автора материала."
   ]
  },
  {
   "cell_type": "markdown",
   "metadata": {},
   "source": [
    "## Урок 2. Основы языка Python\n",
    "\n",
    "### Часть 1. Встроенные типы данных\n",
    "\n",
    "Зачем нужны встроенные типы данных (объекты)?\n",
    "- Встроенные объекты упрощают создание программ. Так как избавляют от необходимости\n",
    "реализации структур данных.\n",
    "- Встроенные объекты – это компоненты расширений. Для решения сложных задач вы можете\n",
    "создавать собственные объекты, используя для этого встроенные классы языка Python\n",
    "- Встроенные объекты часто более эффективны, чем созданные вручную структуры данных.\n",
    "Встроенные типы языка Python используют уже оптимизированные структуры данных,\n",
    "реализованные на языке C для достижения высокой производительности\n",
    "- Встроенные объекты – это стандартная часть языка. В определенной степени Python многое\n",
    "заимствует как из языков, полагающихся на использование встроенных инструментальных\n",
    "средств (таких как LISP), так и полагающихся на мастерство программиста, который должен\n",
    "выполнить собственную реализацию инструментов и структур данных (таких как C++). В языке\n",
    "Python можно создавать собственные типы объектов, но в самом начале делать это не\n",
    "рекомендуется. Более того, из-за того, что встроенные компоненты являются стандартными\n",
    "составляющими языка Python, они всегда остаются неизменными, тогда как собственные\n",
    "структуры имеют свойство изменяться от случая к случаю.\n",
    "\n",
    "Мы рассмотрим следующие встроенные типы данных:\n",
    " - Числа: `(7382, 3.14, 3+4j, Decimal, Fraction)`\n",
    " - Строки: `('net', \"your's\", u'радость')`\n",
    " - Списки: `([1, [2, 'three'], 4])`\n",
    " - Словари: `({'Alex': 2, 'Brian': 4})`\n",
    " - Кортежи: `('Leo', 21.7, 'single')`\n",
    " - Множества: `(set(1,2,3), {'a', 'b', 'c'})`\n",
    " - Файлы: `(open('myfile', 'r'))`\n",
    " \n",
    "**Динамическая типизация**\n",
    "\n",
    "Типы данных в языке Python определяются автоматически во время выполнения, а не в результате\n",
    "объявлений в программном коде. Переменные создаются при выполнении операции присваивания,\n",
    "могут ссылаться на объекты любых типов и им должны быть присвоены некоторые значения, прежде\n",
    "чем к ним можно будет обратиться.\n",
    "\n",
    "<img src=\"../img/link.png\" height=\"240\" width=\"860\">\n",
    "\n",
    " - Переменные – это записи в системной таблице, где предусмотрено место для хранения ссылок на\n",
    "объекты.\n",
    " - Объекты – это области памяти с объемом, достаточным для представления значений этих объектов.\n",
    "Каждый объект имеет два стандартных поля: описатель типа, используемый для хранения\n",
    "информации о типе объекта, и счетчик ссылок, используемый для определения момента, когда\n",
    "память, занимаемая объектом, может быть освобождена.\n",
    " - Ссылки – это указатели на объекты."
   ]
  },
  {
   "cell_type": "markdown",
   "metadata": {},
   "source": [
    "### Часть 2. Числа\n",
    "\n",
    "Числа в Python бывают разные:\n",
    " - Целые числа (`int`): `122`, `-4`, `99999999999`, `0o177`, `0x9ff`, `0b101010`\n",
    " - Вещественные (действительные) числа (`float`): `1.0`, `3.14`, `.5`, `4E21`, `4.0e21` \n",
    " - Комплексные числа (`complex`): `3 + 4j`, `3.0 + 4.0j`,  \n",
    " - Числа фиксированной точности: `decimal.Decimal('0.1')`\n",
    " - Рациональные числа: `fractions.Fraction(3, 4)`\n",
    " \n",
    "### Операции с целыми и вещественными числами\n",
    "\n",
    "<img src=\"../img/operations.png\" height=\"1201\" width=\"681\">"
   ]
  },
  {
   "cell_type": "code",
   "execution_count": 1,
   "metadata": {
    "collapsed": false
   },
   "outputs": [],
   "source": [
    "# Python 2 and 3 compatibility\n",
    "from __future__ import (absolute_import, division,\n",
    "                        print_function, unicode_literals)"
   ]
  },
  {
   "cell_type": "markdown",
   "metadata": {},
   "source": [
    "### Целые числа"
   ]
  },
  {
   "cell_type": "code",
   "execution_count": 102,
   "metadata": {
    "collapsed": false
   },
   "outputs": [
    {
     "name": "stdout",
     "output_type": "stream",
     "text": [
      "Сумма: 5\n",
      "Разность: 1\n",
      "Произведение: 6\n",
      "Деление: 1.5\n",
      "Возведение в степень 9\n"
     ]
    }
   ],
   "source": [
    "print('Сумма:', 3 + 2)\n",
    "print('Разность:', 3 - 2)\n",
    "print('Произведение:', 3 * 2)\n",
    "print('Деление:', 3 / 2)\n",
    "print('Возведение в степень', 3 ** 2)"
   ]
  },
  {
   "cell_type": "code",
   "execution_count": 103,
   "metadata": {
    "collapsed": false
   },
   "outputs": [
    {
     "name": "stdout",
     "output_type": "stream",
     "text": [
      "Без скобок: 14\n",
      "Со скобками: 20\n"
     ]
    }
   ],
   "source": [
    "# Можно использовать скобки для управления порядком операций\n",
    "standard_order = 2 + 3*4\n",
    "print('Без скобок:', standard_order)\n",
    "my_order = (2 + 3) * 4\n",
    "print('Со скобками:', my_order)"
   ]
  },
  {
   "cell_type": "markdown",
   "metadata": {},
   "source": [
    "### Вещественные числа"
   ]
  },
  {
   "cell_type": "code",
   "execution_count": 4,
   "metadata": {
    "collapsed": false
   },
   "outputs": [
    {
     "name": "stdout",
     "output_type": "stream",
     "text": [
      "0.2\n"
     ]
    }
   ],
   "source": [
    "print(.1 + .1)"
   ]
  },
  {
   "cell_type": "code",
   "execution_count": 104,
   "metadata": {
    "collapsed": false
   },
   "outputs": [
    {
     "name": "stdout",
     "output_type": "stream",
     "text": [
      "1.5\n"
     ]
    }
   ],
   "source": [
    "# В Python 2 результат деления двух челых чисел - тоже целое, а в Python 3 - float.\n",
    "print(3 / 2)"
   ]
  },
  {
   "cell_type": "markdown",
   "metadata": {},
   "source": [
    "### Рациональные числа"
   ]
  },
  {
   "cell_type": "code",
   "execution_count": 105,
   "metadata": {
    "collapsed": false
   },
   "outputs": [
    {
     "name": "stdout",
     "output_type": "stream",
     "text": [
      "True\n"
     ]
    }
   ],
   "source": [
    "from fractions import Fraction\n",
    "\n",
    "print(Fraction(7, 71) * 71 == 7) # 7/71 * 71 == 7"
   ]
  },
  {
   "cell_type": "markdown",
   "metadata": {},
   "source": [
    "### Приоритет арифметических операций в Python\n",
    "\n",
    "<img src=\"../img/operations_priority.png\" height=\"1217\" width=\"532\">\n",
    "\n",
    "#### Полезные ссылки\n",
    "* http://docs.python.org/3 — документация по Python 3"
   ]
  },
  {
   "cell_type": "markdown",
   "metadata": {},
   "source": [
    "## Часть 3. Строки"
   ]
  },
  {
   "cell_type": "code",
   "execution_count": 106,
   "metadata": {
    "collapsed": true
   },
   "outputs": [],
   "source": [
    "# Строки можно объявить двойными или одинарными кавычками\n",
    "my_string = \"This is a double-quoted string.\"\n",
    "my_string = 'This is a single-quoted string.'"
   ]
  },
  {
   "cell_type": "code",
   "execution_count": 107,
   "metadata": {
    "collapsed": true
   },
   "outputs": [],
   "source": [
    "# Внутри двойных разрешается использовать одинарные, и наоборот\n",
    "quote = \"Linus Torvalds once said, 'Any program is only as good as it is useful.'\""
   ]
  },
  {
   "cell_type": "code",
   "execution_count": 108,
   "metadata": {
    "collapsed": false
   },
   "outputs": [
    {
     "name": "stdout",
     "output_type": "stream",
     "text": [
      "eric\n",
      "Eric\n"
     ]
    }
   ],
   "source": [
    "first_name = 'eric'\n",
    "\n",
    "print(first_name)\n",
    "print(first_name.title())"
   ]
  },
  {
   "cell_type": "markdown",
   "metadata": {},
   "source": [
    "`upper()`, `lower()` и `title()` - это методы. \n",
    "\n",
    "Синтаксис:\n",
    "```python\n",
    "variable_name.action()\n",
    "```\n",
    "\n",
    "`action` - это название метода, который можно применить к переменной `variable_name`. В скобках можно указывать другие переменные (аргументы) метода. "
   ]
  },
  {
   "cell_type": "code",
   "execution_count": 121,
   "metadata": {
    "collapsed": false
   },
   "outputs": [
    {
     "name": "stdout",
     "output_type": "stream",
     "text": [
      "Help on built-in function find:\n",
      "\n",
      "find(...)\n",
      "    S.find(sub [,start [,end]]) -> int\n",
      "    \n",
      "    Return the lowest index in S where substring sub is found,\n",
      "    such that sub is contained within S[start:end].  Optional\n",
      "    arguments start and end are interpreted as in slice notation.\n",
      "    \n",
      "    Return -1 on failure.\n",
      "\n"
     ]
    }
   ],
   "source": [
    "help(''.find) # help — вызов помощи"
   ]
  },
  {
   "cell_type": "code",
   "execution_count": 142,
   "metadata": {
    "collapsed": false
   },
   "outputs": [],
   "source": [
    "# В Jupyter можно также вызывать помощь иначе:\n",
    "from random import seed\n",
    "seed??"
   ]
  },
  {
   "cell_type": "markdown",
   "metadata": {},
   "source": [
    "#### Конкатенация (\"склеивание\") строк"
   ]
  },
  {
   "cell_type": "code",
   "execution_count": 143,
   "metadata": {
    "collapsed": false
   },
   "outputs": [
    {
     "name": "stdout",
     "output_type": "stream",
     "text": [
      "Ada Lovelace\n"
     ]
    }
   ],
   "source": [
    "first_name = 'ada'\n",
    "last_name = 'lovelace'\n",
    "\n",
    "full_name = first_name + ' ' + last_name\n",
    "# 'a' + 'b' != 'b' + 'a' — конкатенация некоммутативна\n",
    "\n",
    "print(full_name.title())"
   ]
  },
  {
   "cell_type": "markdown",
   "metadata": {},
   "source": [
    "#### Перенос строки"
   ]
  },
  {
   "cell_type": "code",
   "execution_count": 144,
   "metadata": {
    "collapsed": false
   },
   "outputs": [
    {
     "name": "stdout",
     "output_type": "stream",
     "text": [
      "\n",
      "string\n"
     ]
    }
   ],
   "source": [
    "print()\n",
    "print('string')"
   ]
  },
  {
   "cell_type": "code",
   "execution_count": 145,
   "metadata": {
    "collapsed": false
   },
   "outputs": [
    {
     "name": "stdout",
     "output_type": "stream",
     "text": [
      "\n",
      "\n",
      "string\n"
     ]
    }
   ],
   "source": [
    "print('\\n') # print неявно приписывает '\\n' к концу строки\n",
    "print('string')"
   ]
  },
  {
   "cell_type": "code",
   "execution_count": 146,
   "metadata": {
    "collapsed": false
   },
   "outputs": [
    {
     "name": "stdout",
     "output_type": "stream",
     "text": [
      "\n",
      "string\n"
     ]
    }
   ],
   "source": [
    "print('\\n', end='')\n",
    "print('string')"
   ]
  },
  {
   "cell_type": "code",
   "execution_count": 147,
   "metadata": {
    "collapsed": false
   },
   "outputs": [
    {
     "data": {
      "text/plain": [
       "u'eric'"
      ]
     },
     "execution_count": 147,
     "metadata": {},
     "output_type": "execute_result"
    }
   ],
   "source": [
    "name = ' eric '\n",
    "name.strip()"
   ]
  },
  {
   "cell_type": "code",
   "execution_count": 148,
   "metadata": {
    "collapsed": false,
    "scrolled": true
   },
   "outputs": [
    {
     "data": {
      "text/plain": [
       "u'we bought a new building'"
      ]
     },
     "execution_count": 148,
     "metadata": {},
     "output_type": "execute_result"
    }
   ],
   "source": [
    "\"we bought a new house\".replace(\"house\", \"building\")"
   ]
  },
  {
   "cell_type": "code",
   "execution_count": 149,
   "metadata": {
    "collapsed": false
   },
   "outputs": [
    {
     "data": {
      "text/plain": [
       "u'We welcome our new AI overlords'"
      ]
     },
     "execution_count": 149,
     "metadata": {},
     "output_type": "execute_result"
    }
   ],
   "source": [
    "' '.join(['We', 'welcome', 'our', 'new', 'AI', 'overlords'])"
   ]
  },
  {
   "cell_type": "code",
   "execution_count": 150,
   "metadata": {
    "collapsed": false
   },
   "outputs": [
    {
     "data": {
      "text/plain": [
       "[u'there', u'was', u'a', u'fish', u'in', u'a', u'percolator']"
      ]
     },
     "execution_count": 150,
     "metadata": {},
     "output_type": "execute_result"
    }
   ],
   "source": [
    "'there was a fish in a percolator'.split(' ')"
   ]
  },
  {
   "cell_type": "code",
   "execution_count": 151,
   "metadata": {
    "collapsed": false
   },
   "outputs": [
    {
     "data": {
      "text/plain": [
       "u'there is no spoon'"
      ]
     },
     "execution_count": 151,
     "metadata": {},
     "output_type": "execute_result"
    }
   ],
   "source": [
    "'there is no {}'.format('spoon')"
   ]
  },
  {
   "cell_type": "code",
   "execution_count": 152,
   "metadata": {
    "collapsed": false
   },
   "outputs": [
    {
     "data": {
      "text/plain": [
       "u'where there is smoke, there is fire'"
      ]
     },
     "execution_count": 152,
     "metadata": {},
     "output_type": "execute_result"
    }
   ],
   "source": [
    "'where there is {1}, there is {0}'.format('fire', 'smoke')"
   ]
  },
  {
   "cell_type": "markdown",
   "metadata": {},
   "source": [
    "## Часть 4. Переменные типа Bool. Условный оператор"
   ]
  },
  {
   "cell_type": "code",
   "execution_count": 153,
   "metadata": {
    "collapsed": false
   },
   "outputs": [
    {
     "data": {
      "text/plain": [
       "True"
      ]
     },
     "execution_count": 153,
     "metadata": {},
     "output_type": "execute_result"
    }
   ],
   "source": [
    "True != False"
   ]
  },
  {
   "cell_type": "code",
   "execution_count": 154,
   "metadata": {
    "collapsed": false
   },
   "outputs": [
    {
     "name": "stdout",
     "output_type": "stream",
     "text": [
      "<type 'bool'> False\n"
     ]
    }
   ],
   "source": [
    "a, b = 5, 6\n",
    "a_greater_b = a > b\n",
    "\n",
    "print(type(a_greater_b), a_greater_b)"
   ]
  },
  {
   "cell_type": "code",
   "execution_count": 155,
   "metadata": {
    "collapsed": false
   },
   "outputs": [
    {
     "data": {
      "text/plain": [
       "(True, False)"
      ]
     },
     "execution_count": 155,
     "metadata": {},
     "output_type": "execute_result"
    }
   ],
   "source": [
    "# В Python есть приведение типов, числа приводятся к True если не равны нулю\n",
    "bool(-42), bool(0)"
   ]
  },
  {
   "cell_type": "code",
   "execution_count": 156,
   "metadata": {
    "collapsed": false
   },
   "outputs": [
    {
     "name": "stdout",
     "output_type": "stream",
     "text": [
      "almost there\n"
     ]
    }
   ],
   "source": [
    "items = ['lock', 'stock', 'two smoking barrels']\n",
    "\n",
    "if 'lock' in items:\n",
    "    print('almost there')\n",
    "elif not bool('nevertheless'): # bool(a) == False <=> a == ''\n",
    "    print('memes 2017')\n",
    "else:\n",
    "    print('sad face :(')"
   ]
  },
  {
   "cell_type": "code",
   "execution_count": 51,
   "metadata": {
    "collapsed": false
   },
   "outputs": [
    {
     "data": {
      "text/plain": [
       "True"
      ]
     },
     "execution_count": 51,
     "metadata": {},
     "output_type": "execute_result"
    }
   ],
   "source": [
    "'''\n",
    "Индентация в Python (отступы) обязательна. Ниже эквивалентный код на Python и C++.\n",
    "\n",
    "# Python:\n",
    "if a > b:\n",
    "    print(c)\n",
    "    \n",
    "// C++\n",
    "if (a > b) {\n",
    "    printf(c);\n",
    "}\n",
    "'''\n",
    "_==_"
   ]
  },
  {
   "cell_type": "code",
   "execution_count": 52,
   "metadata": {
    "collapsed": false
   },
   "outputs": [
    {
     "name": "stdout",
     "output_type": "stream",
     "text": [
      "one\n"
     ]
    }
   ],
   "source": [
    "# Тернарный оператор\n",
    "from random import randint\n",
    "\n",
    "print('zero' if randint(0, 1) % 2 == 0 else 'one')"
   ]
  },
  {
   "cell_type": "markdown",
   "metadata": {},
   "source": [
    "## Часть 5. Циклы\n",
    "\n",
    "<img src=\"../img/while_cycle.png\" height=\"240\" width=\"860\">"
   ]
  },
  {
   "cell_type": "code",
   "execution_count": 53,
   "metadata": {
    "collapsed": false
   },
   "outputs": [
    {
     "name": "stdout",
     "output_type": "stream",
     "text": [
      "213 iterations before 42 is randomly chosen\n"
     ]
    }
   ],
   "source": [
    "from random import randint\n",
    "\n",
    "iterations = 0\n",
    "while randint(0, 100) != 42:\n",
    "    iterations += 1\n",
    "    \n",
    "print('{} iterations before 42 is randomly chosen'.format(iterations))"
   ]
  },
  {
   "cell_type": "markdown",
   "metadata": {},
   "source": [
    "<img src=\"../img/for_cycle.png\" height=\"240\" width=\"860\">"
   ]
  },
  {
   "cell_type": "code",
   "execution_count": 54,
   "metadata": {
    "collapsed": false
   },
   "outputs": [
    {
     "name": "stdout",
     "output_type": "stream",
     "text": [
      "1\n",
      "4\n",
      "7\n"
     ]
    }
   ],
   "source": [
    "for i in range(1, 10, 3): # Целые числа из [1, 10) с шагом 3\n",
    "    print(i)"
   ]
  },
  {
   "cell_type": "code",
   "execution_count": 55,
   "metadata": {
    "collapsed": false
   },
   "outputs": [
    {
     "name": "stdout",
     "output_type": "stream",
     "text": [
      "not today\n",
      "not today\n",
      "yummy\n"
     ]
    }
   ],
   "source": [
    "for x in ['spam', 'eggs', 'ham']:\n",
    "    if x == 'ham':\n",
    "        print('yummy')\n",
    "    else:\n",
    "        print('not today')"
   ]
  },
  {
   "cell_type": "code",
   "execution_count": 88,
   "metadata": {
    "collapsed": false
   },
   "outputs": [
    {
     "name": "stdout",
     "output_type": "stream",
     "text": [
      "21\n"
     ]
    }
   ],
   "source": [
    "# Строка — тот же список из символов\n",
    "for i, c in enumerate('a very frequently encountered string'):\n",
    "    if c == 'o':\n",
    "        print(i)"
   ]
  },
  {
   "cell_type": "markdown",
   "metadata": {},
   "source": [
    "### Мгновения грядущего: структуры данных"
   ]
  },
  {
   "cell_type": "code",
   "execution_count": 65,
   "metadata": {
    "collapsed": false
   },
   "outputs": [
    {
     "data": {
      "text/plain": [
       "[1, 2, 3, u'\\u043f\\u0438\\u0442\\u043e\\u043d']"
      ]
     },
     "execution_count": 65,
     "metadata": {},
     "output_type": "execute_result"
    }
   ],
   "source": [
    "[1, 2, 3, 'питон'] # Список"
   ]
  },
  {
   "cell_type": "code",
   "execution_count": 69,
   "metadata": {
    "collapsed": false
   },
   "outputs": [
    {
     "data": {
      "text/plain": [
       "{4, 5, 6}"
      ]
     },
     "execution_count": 69,
     "metadata": {},
     "output_type": "execute_result"
    }
   ],
   "source": [
    "set([4, 5, 6, 6, 5, 4]) # Множество"
   ]
  },
  {
   "cell_type": "code",
   "execution_count": 72,
   "metadata": {
    "collapsed": false
   },
   "outputs": [
    {
     "data": {
      "text/plain": [
       "(7, 8)"
      ]
     },
     "execution_count": 72,
     "metadata": {},
     "output_type": "execute_result"
    }
   ],
   "source": [
    "(7, 8) # Кортеж"
   ]
  },
  {
   "cell_type": "code",
   "execution_count": 98,
   "metadata": {
    "collapsed": false
   },
   "outputs": [
    {
     "name": "stdout",
     "output_type": "stream",
     "text": [
      "{9: u'\\u0434\\u0435\\u0432\\u044f\\u0442\\u044c', 10: u'\\u043c\\u043d\\u043e\\u0433\\u043e'}\n"
     ]
    },
    {
     "data": {
      "text/plain": [
       "u'\\u043c\\u043d\\u043e\\u0433\\u043e'"
      ]
     },
     "execution_count": 98,
     "metadata": {},
     "output_type": "execute_result"
    }
   ],
   "source": [
    "big_numbers = dict([(9, 'девять'), (10, 'много')]) # Словарь\n",
    "print(big_numbers)\n",
    "big_numbers[10]"
   ]
  },
  {
   "cell_type": "code",
   "execution_count": 100,
   "metadata": {
    "collapsed": false
   },
   "outputs": [
    {
     "data": {
      "text/plain": [
       "u'0x10, 0x12, 0x14, 0x16, 0x18, 0x1a, 0x1c, 0x1e'"
      ]
     },
     "execution_count": 100,
     "metadata": {},
     "output_type": "execute_result"
    }
   ],
   "source": [
    "', '.join([hex(number) for number in range(16, 32) if number % 2 == 0]) # Списочные выражения (list comprehensions)"
   ]
  },
  {
   "cell_type": "code",
   "execution_count": 99,
   "metadata": {
    "collapsed": false
   },
   "outputs": [
    {
     "name": "stdout",
     "output_type": "stream",
     "text": [
      "{0: '0', 1: '01', 2: '02', 3: '03', 4: '04', 5: '05', 6: '06', 7: '07', 8: '010', 9: '011'}\n",
      "5 -> 05\n"
     ]
    }
   ],
   "source": [
    "octal_numbers = {i: oct(i) for i in range(10)} # Словарные выражения (dict comprehensions)\n",
    "print(octal_numbers)\n",
    "print(5, '->', octal_numbers[5])"
   ]
  }
 ],
 "metadata": {
  "anaconda-cloud": {},
  "kernelspec": {
   "display_name": "Python 2",
   "language": "python",
   "name": "python2"
  },
  "language_info": {
   "codemirror_mode": {
    "name": "ipython",
    "version": 2
   },
   "file_extension": ".py",
   "mimetype": "text/x-python",
   "name": "python",
   "nbconvert_exporter": "python",
   "pygments_lexer": "ipython2",
   "version": "2.7.12"
  }
 },
 "nbformat": 4,
 "nbformat_minor": 1
}
